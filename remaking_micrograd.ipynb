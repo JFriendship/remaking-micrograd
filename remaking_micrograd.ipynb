{
 "cells": [
  {
   "cell_type": "markdown",
   "metadata": {},
   "source": [
    "# To start off, I want to get acquainted with derivatives."
   ]
  },
  {
   "cell_type": "markdown",
   "metadata": {},
   "source": [
    "We first need to import a few libraries to help visualize and work through the arithmetic. We will also use numpy to generate random numbers later on."
   ]
  },
  {
   "cell_type": "code",
   "execution_count": 1,
   "metadata": {},
   "outputs": [],
   "source": [
    "import math\n",
    "import numpy as np\n",
    "import matplotlib.pyplot as plt\n",
    "%matplotlib inline"
   ]
  },
  {
   "cell_type": "code",
   "execution_count": 2,
   "metadata": {},
   "outputs": [],
   "source": [
    "# Lets say that we have a function f(x) and\n",
    "# we want to see how important each of the\n",
    "# variables are for the final output of the\n",
    "# function.\n",
    "# We can slightly increment one of the variables\n",
    "# and compare the output of the function call\n",
    "# before and after we nudged the variable."
   ]
  },
  {
   "cell_type": "code",
   "execution_count": 3,
   "metadata": {},
   "outputs": [],
   "source": [
    "def f(x):\n",
    "    return 4*x**2 + 3*x + 10"
   ]
  },
  {
   "cell_type": "code",
   "execution_count": 4,
   "metadata": {},
   "outputs": [
    {
     "data": {
      "text/plain": [
       "55.0"
      ]
     },
     "execution_count": 4,
     "metadata": {},
     "output_type": "execute_result"
    }
   ],
   "source": [
    "f(3.0)"
   ]
  },
  {
   "cell_type": "code",
   "execution_count": 5,
   "metadata": {},
   "outputs": [
    {
     "data": {
      "text/plain": [
       "[<matplotlib.lines.Line2D at 0x1824df779d0>]"
      ]
     },
     "execution_count": 5,
     "metadata": {},
     "output_type": "execute_result"
    },
    {
     "data": {
      "image/png": "[encoded data removed]",
      "text/plain": [
       "<Figure size 640x480 with 1 Axes>"
      ]
     },
     "metadata": {},
     "output_type": "display_data"
    }
   ],
   "source": [
    "xs = np.arange(start=-5, stop=5, step=0.25)\n",
    "ys = f(xs)\n",
    "plt.plot(xs, ys)"
   ]
  },
  {
   "cell_type": "code",
   "execution_count": 6,
   "metadata": {},
   "outputs": [
    {
     "data": {
      "text/plain": [
       "-12.995999999997565"
      ]
     },
     "execution_count": 6,
     "metadata": {},
     "output_type": "execute_result"
    }
   ],
   "source": [
    "h = 0.001\n",
    "x = -2.0\n",
    "(f(x+h) - f(x))/h"
   ]
  },
  {
   "cell_type": "markdown",
   "metadata": {},
   "source": [
    "This shows the slope between the two points:\n",
    "f(x) and f(x+h)."
   ]
  },
  {
   "cell_type": "markdown",
   "metadata": {},
   "source": [
    "These slopes can be used to determine how variables affect the outcome of a mathematical expression. We are ultimately taking the derivative of a function with multiple inputs."
   ]
  },
  {
   "cell_type": "code",
   "execution_count": 7,
   "metadata": {},
   "outputs": [],
   "source": [
    "a = 2.0\n",
    "b = -3.0\n",
    "c = 10.0\n",
    "\n",
    "h = 0.001"
   ]
  },
  {
   "cell_type": "code",
   "execution_count": 8,
   "metadata": {},
   "outputs": [
    {
     "name": "stdout",
     "output_type": "stream",
     "text": [
      "nudged function output:  3.997\n",
      "original function output: 4.0\n",
      "slope:  -3.0000000000001137\n"
     ]
    }
   ],
   "source": [
    "original = a * b + c\n",
    "a += h\n",
    "nudged = a * b + c\n",
    "\n",
    "print(\"nudged function output: \", nudged)\n",
    "print(\"original function output:\", original)\n",
    "print(\"slope: \", (nudged - original) / h)"
   ]
  },
  {
   "cell_type": "code",
   "execution_count": 9,
   "metadata": {},
   "outputs": [
    {
     "name": "stdout",
     "output_type": "stream",
     "text": [
      "nudged function output:  3.999001\n",
      "original function output: 3.997\n",
      "slope:  2.0009999999999195\n"
     ]
    }
   ],
   "source": [
    "original = a * b + c\n",
    "b += h\n",
    "nudged = a * b + c\n",
    "\n",
    "print(\"nudged function output: \", nudged)\n",
    "print(\"original function output:\", original)\n",
    "print(\"slope: \", (nudged - original) / h)"
   ]
  },
  {
   "cell_type": "markdown",
   "metadata": {},
   "source": [
    "These slope outputs make sense because when taking the partial derivative with respect to a or b, in this instance, the equations result in their multiplicative counterpart:  \n",
    "$d/da(a * b + c)$  &emsp; &emsp; &emsp; &emsp;                          $d/db(a * b + c)$  \n",
    "$= d/da(ab) + d/da(c)$  &emsp;                                          $= d/db(ab) + d/db(c)$  \n",
    "$= a^0 * b + 0$  &emsp;  &emsp; &emsp; &emsp; &ensp; &ensp;             $= a * b^0 + 0$  \n",
    "$= b$  &emsp; &emsp; &emsp; &emsp; &emsp; &emsp; &emsp; &emsp; &ensp;   $= a$\n",
    "  "
   ]
  },
  {
   "cell_type": "markdown",
   "metadata": {},
   "source": [
    "Now when differentiating with respect to c, a constant, it will increase at a rate of 1 since it has no effect on the other variables other than the value being added."
   ]
  },
  {
   "cell_type": "code",
   "execution_count": 10,
   "metadata": {},
   "outputs": [
    {
     "name": "stdout",
     "output_type": "stream",
     "text": [
      "nudged function output:  4.000000999999999\n",
      "original function output: 3.999001\n",
      "slope:  0.9999999999994458\n"
     ]
    }
   ],
   "source": [
    "original = a * b + c\n",
    "c += h\n",
    "nudged = a * b + c\n",
    "\n",
    "print(\"nudged function output: \", nudged)\n",
    "print(\"original function output:\", original)\n",
    "print(\"slope: \", (nudged - original) / h)"
   ]
  },
  {
   "cell_type": "markdown",
   "metadata": {},
   "source": [
    "# Moving on to micrograd"
   ]
  },
  {
   "cell_type": "markdown",
   "metadata": {},
   "source": [
    "When building out micrograd, we are going to need to make a Value object. We need a Value object to keep track of the children of the expression when doing backpropagation later."
   ]
  },
  {
   "cell_type": "code",
   "execution_count": 11,
   "metadata": {},
   "outputs": [],
   "source": [
    "class Value():\n",
    "    def __init__(self, val):\n",
    "        self.val = val\n",
    "    def __repr__(self):\n",
    "        return(f\"Value(val={self.val})\")"
   ]
  },
  {
   "cell_type": "code",
   "execution_count": 12,
   "metadata": {},
   "outputs": [
    {
     "data": {
      "text/plain": [
       "Value(val=4.0)"
      ]
     },
     "execution_count": 12,
     "metadata": {},
     "output_type": "execute_result"
    }
   ],
   "source": [
    "x = 4.0\n",
    "Value(x)"
   ]
  },
  {
   "cell_type": "markdown",
   "metadata": {},
   "source": [
    "Now we want to be able to add or multiply two value objects together"
   ]
  },
  {
   "cell_type": "code",
   "execution_count": 13,
   "metadata": {},
   "outputs": [],
   "source": [
    "class Value():\n",
    "    def __init__(self, val, _children=(), _op=''):\n",
    "        self.val = val\n",
    "        # prev is stored as a set, as opposed  \n",
    "        # to a tuple, for efficiency.\n",
    "        self.prev = set(_children)\n",
    "        self._op = _op\n",
    "        self.grad=0\n",
    "    def __repr__(self):\n",
    "        return(f\"Value(val={self.val})\") \n",
    "    def __add__(self, other):\n",
    "        out = Value(self.val+other.val, (self, other), '+')\n",
    "        return out\n",
    "    def __mul__(self, other):\n",
    "        out = Value(self.val*other.val, (self, other), '*')\n",
    "        return out"
   ]
  },
  {
   "cell_type": "code",
   "execution_count": 14,
   "metadata": {},
   "outputs": [
    {
     "name": "stdout",
     "output_type": "stream",
     "text": [
      "a+b:  Value(val=5.0)\n",
      "a*b:  Value(val=6.0)\n",
      "{Value(val=2.0), Value(val=3.0)}\n",
      "operator:  +\n"
     ]
    }
   ],
   "source": [
    "a = Value(2.0)\n",
    "b = Value(3.0)\n",
    "print(\"a+b: \", a+b)\n",
    "print(\"a*b: \", a*b)\n",
    "\n",
    "x = a+b\n",
    "print(x.prev)\n",
    "print(\"operator: \", x._op)"
   ]
  },
  {
   "cell_type": "markdown",
   "metadata": {},
   "source": [
    "Now I want to add backpropagation (partial derivatives), and an activation function to our Value object"
   ]
  },
  {
   "cell_type": "code",
   "execution_count": 15,
   "metadata": {},
   "outputs": [],
   "source": [
    "class Value():\n",
    "    def __init__(self, val, _children=(), _op=''):\n",
    "        self.val = val\n",
    "        # prev is stored as a set, as opposed  \n",
    "        # to a tuple, for efficiency.\n",
    "        self._prev = set(_children)\n",
    "        self._op = _op\n",
    "        self.grad = 0\n",
    "        self._backward = lambda:None    # initialized to an empty lambda function\n",
    "\n",
    "    def __repr__(self):\n",
    "        return(f\"Value(val={self.val})\") \n",
    "    \n",
    "    def __add__(self, other):\n",
    "        out = Value(self.val+other.val, (self, other), '+')\n",
    "        def _backward():\n",
    "            self.grad += 1.0 * out.grad     # Note: the gradients have to accumulate (+=) to avoid issues \n",
    "            other.grad += 1.0 * self.grad   #       where a variable is used in an expression more than once.\n",
    "        out._backward = _backward\n",
    "        return out\n",
    "    \n",
    "    def __mul__(self, other):\n",
    "        out = Value(self.val*other.val, (self, other), '*')\n",
    "        def _backward():\n",
    "            self.grad += other.val * out.grad\n",
    "            other.grad += self.val * out.grad\n",
    "        out._backward = _backward\n",
    "        return out\n",
    "    \n",
    "    def tanh(self):\n",
    "        x = self.val\n",
    "        t = (math.exp(2*x) - 1) / (math.exp(2*x) + 1)\n",
    "        out = Value(t, (self, ), 'tanh')\n",
    "        def _backward():\n",
    "            self.grad = (1 - t**2) * out.grad\n",
    "        out._backward = _backward\n",
    "        return out\n",
    "    \n",
    "    def sigmoid(self):\n",
    "        x = self.val\n",
    "        out = Value(math.exp(x) / 1 + (math.exp(x)), (self, ), 'sigmoid')\n",
    "        def _backward():\n",
    "            self.grad = math.exp(x) / ((math.exp(x) + 1) ** 2)\n",
    "        out._backward = _backward\n",
    "        return out\n",
    "    "
   ]
  },
  {
   "cell_type": "code",
   "execution_count": 16,
   "metadata": {},
   "outputs": [],
   "source": [
    "x1 = Value(2.0)\n",
    "x2 = Value(0.0)\n",
    "w1 = Value(-3.0)\n",
    "w2 = Value(1.0)\n",
    "x1w1 = x1 * w1\n",
    "x2w2 = x2 * w2\n",
    "b = Value(6.8813735870195432)\n",
    "x1w1x2w2 = x1w1 + x2w2\n",
    "n = x1w1x2w2 + b\n",
    "o = n.tanh()"
   ]
  },
  {
   "cell_type": "code",
   "execution_count": 17,
   "metadata": {},
   "outputs": [],
   "source": [
    "o.grad = 1.0\n",
    "o._backward()"
   ]
  },
  {
   "cell_type": "code",
   "execution_count": 18,
   "metadata": {},
   "outputs": [],
   "source": [
    "n.grad\n",
    "n._backward()\n",
    "x1w1x2w2._backward()\n",
    "x1w1._backward()\n",
    "x2w2._backward()\n"
   ]
  },
  {
   "cell_type": "code",
   "execution_count": 19,
   "metadata": {},
   "outputs": [
    {
     "name": "stdout",
     "output_type": "stream",
     "text": [
      "x1:  -1.4999999999999996\n",
      "x2:  0.4999999999999999\n",
      "w1:  0.9999999999999998\n",
      "w2:  0.0\n",
      "x1w1:  0.4999999999999999\n",
      "x1w2:  0.4999999999999999\n",
      "x1w1x2w2:  0.4999999999999999\n",
      "n:  0.4999999999999999\n",
      "o:  1.0\n"
     ]
    }
   ],
   "source": [
    "print(\"x1: \", x1.grad)\n",
    "print(\"x2: \", x2.grad)\n",
    "print(\"w1: \", w1.grad)\n",
    "print(\"w2: \", w2.grad)\n",
    "print(\"x1w1: \", x1w1.grad)\n",
    "print(\"x1w2: \", x2w2.grad)\n",
    "print(\"x1w1x2w2: \", x1w1x2w2.grad)\n",
    "print(\"n: \", n.grad)\n",
    "print(\"o: \", o.grad)"
   ]
  },
  {
   "cell_type": "markdown",
   "metadata": {},
   "source": [
    "Now we need to build a topological graph of the whole structure and call _backward() on each component starting at the output (o)"
   ]
  },
  {
   "cell_type": "code",
   "execution_count": 20,
   "metadata": {},
   "outputs": [],
   "source": [
    "topological_graph = []\n",
    "visited = set()\n",
    "def build_topological_graph(node):\n",
    "    if node not in visited:\n",
    "        visited.add(node)\n",
    "        for child in node._prev:\n",
    "            build_topological_graph(child)\n",
    "        topological_graph.append(node)\n",
    "\n",
    "build_topological_graph(o)\n",
    "\n",
    "for node in reversed(topological_graph):\n",
    "    node._backward()\n"
   ]
  },
  {
   "cell_type": "code",
   "execution_count": 21,
   "metadata": {},
   "outputs": [],
   "source": [
    "x1 = Value(2.0)\n",
    "x2 = Value(0.0)\n",
    "w1 = Value(-3.0)\n",
    "w2 = Value(1.0)\n",
    "x1w1 = x1 * w1\n",
    "x2w2 = x2 * w2\n",
    "b = Value(6.8813735870195432)\n",
    "x1w1x2w2 = x1w1 + x2w2\n",
    "n = x1w1x2w2 + b\n",
    "o = n.tanh()\n",
    "o.grad = 1.0\n",
    "\n",
    "topological_graph = []\n",
    "visited = set()\n",
    "def build_topological_graph(node):\n",
    "    if node not in visited:\n",
    "        visited.add(node)\n",
    "        for child in node._prev:\n",
    "            build_topological_graph(child)\n",
    "        topological_graph.append(node)\n",
    "\n",
    "build_topological_graph(o)\n",
    "\n",
    "for node in reversed(topological_graph):\n",
    "    node._backward()"
   ]
  },
  {
   "cell_type": "code",
   "execution_count": 22,
   "metadata": {},
   "outputs": [
    {
     "name": "stdout",
     "output_type": "stream",
     "text": [
      "x1:  -1.4999999999999996\n",
      "x2:  0.4999999999999999\n",
      "w1:  0.9999999999999998\n",
      "w2:  0.0\n",
      "x1w1:  0.4999999999999999\n",
      "x1w2:  0.4999999999999999\n",
      "x1w1x2w2:  0.4999999999999999\n",
      "n:  0.4999999999999999\n",
      "o:  1.0\n"
     ]
    }
   ],
   "source": [
    "print(\"x1: \", x1.grad)\n",
    "print(\"x2: \", x2.grad)\n",
    "print(\"w1: \", w1.grad)\n",
    "print(\"w2: \", w2.grad)\n",
    "print(\"x1w1: \", x1w1.grad)\n",
    "print(\"x1w2: \", x2w2.grad)\n",
    "print(\"x1w1x2w2: \", x1w1x2w2.grad)\n",
    "print(\"n: \", n.grad)\n",
    "print(\"o: \", o.grad)"
   ]
  },
  {
   "cell_type": "markdown",
   "metadata": {},
   "source": [
    "It calculates the gradiants automatically!\n",
    "Now let's make some changes to our Value class.\n",
    "We want to add the backward pass as a callable function on a Value object. We also want to add some more arithmetic functionality."
   ]
  },
  {
   "cell_type": "code",
   "execution_count": 23,
   "metadata": {},
   "outputs": [],
   "source": [
    "class Value():\n",
    "    def __init__(self, val, _children=(), _op=''):\n",
    "        self.val = val\n",
    "        # prev is stored as a set, as opposed  \n",
    "        # to a tuple, for efficiency.\n",
    "        self._prev = set(_children)\n",
    "        self._op = _op\n",
    "        self.grad = 0\n",
    "        self._backward = lambda:None    # initialized to an empty lambda function\n",
    "\n",
    "    def __repr__(self):\n",
    "        return(f\"Value(val={self.val})\") \n",
    "    \n",
    "    def __radd__(self, other):\n",
    "        return self + other\n",
    "\n",
    "    def __add__(self, other):\n",
    "        if not isinstance(other, Value):\n",
    "            other = Value(other)\n",
    "\n",
    "        out = Value(self.val+other.val, (self, other), '+')\n",
    "        def _backward():\n",
    "            self.grad += 1.0 * out.grad     # Note: the gradients have to accumulate (+=) to avoid issues \n",
    "            other.grad += 1.0 * out.grad   #       where a variable is used in an expression more than once.\n",
    "        out._backward = _backward\n",
    "        return out\n",
    "    \n",
    "    def __sub__(self, other):\n",
    "        return self + -(other)\n",
    "    \n",
    "    def __neg__(self):\n",
    "        return self * -1\n",
    "\n",
    "    # rmul allows non-value types to multiply with value types.\n",
    "    # e.g. x = Value(5.0), 3 * x gets routed as x*3 thanks to this function.\n",
    "    def __rmul__(self, other):\n",
    "        return self*other\n",
    "\n",
    "    def __mul__(self, other):\n",
    "        if not isinstance(other, Value):\n",
    "            other = Value(other)\n",
    "\n",
    "        out = Value(self.val*other.val, (self, other), '*')\n",
    "        def _backward():\n",
    "            self.grad += other.val * out.grad\n",
    "            other.grad += self.val * out.grad\n",
    "        out._backward = _backward\n",
    "        return out\n",
    "    \n",
    "    def __truediv__(self, other):\n",
    "        return self * (other ** -1)     # x / a = x * 1/a\n",
    "    \n",
    "    def __pow__(self, other):\n",
    "        assert isinstance(other, (int, float)), \"int or float only\"\n",
    "        out = Value(self.val ** other, (self, ), f\"**{other}\")\n",
    "        def _backward():\n",
    "            self.grad += other * self.val**(other-1) * out.grad\n",
    "        out._backward = _backward\n",
    "        return out\n",
    "    \n",
    "    def exp(self):\n",
    "        x = self.val\n",
    "        out = Value(math.exp(x), (self, ), 'exp')\n",
    "        def _backward():\n",
    "            self.grad += out.val * out.grad  # local derivative of e^x is just e^x\n",
    "        out._backward = _backward\n",
    "        return out\n",
    "\n",
    "    def tanh(self):\n",
    "        x = self.val\n",
    "        t = (math.exp(2*x) - 1) / (math.exp(2*x) + 1)\n",
    "        out = Value(t, (self, ), 'tanh')\n",
    "        def _backward():\n",
    "            self.grad = (1 - t**2) * out.grad\n",
    "        out._backward = _backward\n",
    "        return out\n",
    "    \n",
    "    def sigmoid(self):\n",
    "        x = self.val\n",
    "        out = Value(math.exp(x) / 1 + (math.exp(x)), (self, ), 'sigmoid')\n",
    "        def _backward():\n",
    "            self.grad = math.exp(x) / ((math.exp(x) + 1) ** 2)\n",
    "        out._backward = _backward\n",
    "        return out\n",
    "    \n",
    "    def backward(self):\n",
    "        topological_graph = []\n",
    "        visited = set()\n",
    "        def build_topological_graph(node):\n",
    "            if node not in visited:\n",
    "                visited.add(node)\n",
    "                for child in node._prev:\n",
    "                    build_topological_graph(child)\n",
    "                topological_graph.append(node)\n",
    "\n",
    "        build_topological_graph(self)\n",
    "\n",
    "        self.grad = 1.0\n",
    "        for node in reversed(topological_graph):\n",
    "            node._backward()\n",
    "    "
   ]
  },
  {
   "cell_type": "markdown",
   "metadata": {},
   "source": [
    "Testing new functions"
   ]
  },
  {
   "cell_type": "code",
   "execution_count": 24,
   "metadata": {},
   "outputs": [
    {
     "name": "stdout",
     "output_type": "stream",
     "text": [
      "Value(val=-2.0)\n",
      "Value(val=32.0)\n",
      "Value(val=2.0)\n",
      "Value(val=3.0)\n",
      "Value(val=8.0)\n",
      "Value(val=4.0)\n",
      "Value(val=6.0)\n"
     ]
    }
   ],
   "source": [
    "x = Value(2.0)\n",
    "y = Value(4.0)\n",
    "print(x-y)\n",
    "print(x**5)\n",
    "print(y/x)\n",
    "print(x+1)\n",
    "print(y*2)\n",
    "print(2*x)\n",
    "print(2+y)"
   ]
  },
  {
   "cell_type": "markdown",
   "metadata": {},
   "source": [
    "I would like to now start building the classes that represent different components of a neural network starting with a neuron"
   ]
  },
  {
   "cell_type": "code",
   "execution_count": 25,
   "metadata": {},
   "outputs": [],
   "source": [
    "import random"
   ]
  },
  {
   "cell_type": "code",
   "execution_count": 26,
   "metadata": {},
   "outputs": [],
   "source": [
    "class Neuron:\n",
    "    def __init__(self, num_inputs):\n",
    "        # weights\n",
    "        self.weights = []\n",
    "        for _ in range(num_inputs):\n",
    "            self.weights.append(Value(random.uniform(-1,1)))\n",
    "        # bias\n",
    "        self.bias = Value(random.uniform(-1,1))\n",
    "\n",
    "    def __call__(self, x):\n",
    "        act = sum(wi*xi for wi, xi in zip(self.weights, x)) + self.bias\n",
    "        out = act.tanh()\n",
    "        return out"
   ]
  },
  {
   "cell_type": "code",
   "execution_count": 27,
   "metadata": {},
   "outputs": [
    {
     "data": {
      "text/plain": [
       "Value(val=-0.0908700982057028)"
      ]
     },
     "execution_count": 27,
     "metadata": {},
     "output_type": "execute_result"
    }
   ],
   "source": [
    "x = [2.0, 3.0]\n",
    "n = Neuron(2)\n",
    "n(x)"
   ]
  },
  {
   "cell_type": "code",
   "execution_count": 28,
   "metadata": {},
   "outputs": [],
   "source": [
    "class Layer:\n",
    "    def __init__(self, num_inputs, num_outputs):\n",
    "        self.neurons = []\n",
    "        for _ in range(num_outputs):\n",
    "            self.neurons.append(Neuron(num_inputs))\n",
    "    \n",
    "    def __call__(self, x):\n",
    "        outputs = []\n",
    "        for neuron in self.neurons:\n",
    "            outputs.append(neuron(x))\n",
    "\n",
    "        # if there is only one output, just return the Value instead of an array\n",
    "        if len(outputs) == 1:\n",
    "            return outputs[0]\n",
    "\n",
    "        return outputs"
   ]
  },
  {
   "cell_type": "code",
   "execution_count": 29,
   "metadata": {},
   "outputs": [
    {
     "name": "stdout",
     "output_type": "stream",
     "text": [
      "[Value(val=0.3355564687527405), Value(val=-0.8437562493709622), Value(val=-0.2855862836780614)]\n"
     ]
    }
   ],
   "source": [
    "x = [2.0, 3.0]\n",
    "n = Layer(2, 3)\n",
    "print(n(x))"
   ]
  },
  {
   "cell_type": "code",
   "execution_count": 30,
   "metadata": {},
   "outputs": [],
   "source": [
    "class MLP:\n",
    "    def __init__(self, num_inputs, num_outputs):\n",
    "        ls = [num_inputs] + num_outputs     # each layer is an array of inputs\n",
    "        self.layers = []\n",
    "        for i in range(len(num_outputs)):\n",
    "            self.layers.append(Layer(ls[i], ls[i+1]))\n",
    "\n",
    "    def __call__(self, x):\n",
    "        for layer in self.layers:\n",
    "            x = layer(x)\n",
    "        return x"
   ]
  },
  {
   "cell_type": "code",
   "execution_count": 31,
   "metadata": {},
   "outputs": [
    {
     "data": {
      "text/plain": [
       "Value(val=-0.0653794261985003)"
      ]
     },
     "execution_count": 31,
     "metadata": {},
     "output_type": "execute_result"
    }
   ],
   "source": [
    "x = [1.5, -2.0, 3.0]\n",
    "n = MLP(3, [4, 4, 1])\n",
    "n(x)    # forward pass of the MLP"
   ]
  },
  {
   "cell_type": "markdown",
   "metadata": {},
   "source": [
    "Since we want to tweak the parameters of the neural network, I am going to add a function to the neuron, layer, and mlp class that will get the parameters."
   ]
  },
  {
   "cell_type": "code",
   "execution_count": 32,
   "metadata": {},
   "outputs": [],
   "source": [
    "class Neuron:\n",
    "    def __init__(self, num_inputs):\n",
    "        # weights\n",
    "        self.weights = []\n",
    "        for _ in range(num_inputs):\n",
    "            self.weights.append(Value(random.uniform(-1,1)))\n",
    "        # bias\n",
    "        self.bias = Value(random.uniform(-1,1))\n",
    "\n",
    "    def __call__(self, x):\n",
    "        act = sum(wi*xi for wi, xi in zip(self.weights, x)) + self.bias\n",
    "        out = act.tanh()\n",
    "        return out\n",
    "    \n",
    "    def get_params(self):\n",
    "        return self.weights + [self.bias]"
   ]
  },
  {
   "cell_type": "code",
   "execution_count": 33,
   "metadata": {},
   "outputs": [],
   "source": [
    "class Layer:\n",
    "    def __init__(self, num_inputs, num_outputs):\n",
    "        self.neurons = []\n",
    "        for _ in range(num_outputs):\n",
    "            self.neurons.append(Neuron(num_inputs))\n",
    "    \n",
    "    def __call__(self, x):\n",
    "        outputs = []\n",
    "        for neuron in self.neurons:\n",
    "            outputs.append(neuron(x))\n",
    "\n",
    "        # if there is only one output, just return the Value instead of an array\n",
    "        if len(outputs) == 1:\n",
    "            return outputs[0]\n",
    "\n",
    "        return outputs\n",
    "    \n",
    "    def get_params(self):\n",
    "        params = []\n",
    "        for neuron in self.neurons:\n",
    "            ps = neuron.get_params()\n",
    "            params.extend(ps)\n",
    "        return params"
   ]
  },
  {
   "cell_type": "code",
   "execution_count": 34,
   "metadata": {},
   "outputs": [],
   "source": [
    "class MLP:\n",
    "    def __init__(self, num_inputs, num_outputs):\n",
    "        ls = [num_inputs] + num_outputs     # each layer is an array of inputs\n",
    "        self.layers = []\n",
    "        for i in range(len(num_outputs)):\n",
    "            self.layers.append(Layer(ls[i], ls[i+1]))\n",
    "\n",
    "    def __call__(self, x):\n",
    "        for layer in self.layers:\n",
    "            x = layer(x)\n",
    "        return x\n",
    "    \n",
    "    def get_params(self):\n",
    "        params = []\n",
    "        for layer in self.layers:\n",
    "            ls = layer.get_params()\n",
    "            params.extend(ls)\n",
    "        return params"
   ]
  },
  {
   "cell_type": "markdown",
   "metadata": {},
   "source": [
    "Testing new added get_params functionality"
   ]
  },
  {
   "cell_type": "code",
   "execution_count": 35,
   "metadata": {},
   "outputs": [
    {
     "data": {
      "text/plain": [
       "Value(val=-0.47551317485475936)"
      ]
     },
     "execution_count": 35,
     "metadata": {},
     "output_type": "execute_result"
    }
   ],
   "source": [
    "x = [1.5, -2.0, 3.0]\n",
    "n = MLP(3, [4, 4, 1])\n",
    "n(x)    # forward pass of the MLP"
   ]
  },
  {
   "cell_type": "code",
   "execution_count": 36,
   "metadata": {},
   "outputs": [
    {
     "data": {
      "text/plain": [
       "[Value(val=0.42213035516965625),\n",
       " Value(val=0.41481410015858966),\n",
       " Value(val=0.574771227825537),\n",
       " Value(val=-0.3903282952742162),\n",
       " Value(val=0.9087588893457827),\n",
       " Value(val=0.14667360489495618),\n",
       " Value(val=0.4611335437433153),\n",
       " Value(val=-0.591862990318071),\n",
       " Value(val=-0.4274345768986807),\n",
       " Value(val=-0.7304095369749863),\n",
       " Value(val=0.12917306511791837),\n",
       " Value(val=-0.8938273787642321),\n",
       " Value(val=-0.6394577204438139),\n",
       " Value(val=-0.6334058531667832),\n",
       " Value(val=-0.3538648132726885),\n",
       " Value(val=0.6257951274951805),\n",
       " Value(val=-0.974433554308503),\n",
       " Value(val=0.0054406410351106604),\n",
       " Value(val=0.8755513386934644),\n",
       " Value(val=-0.978102243210802),\n",
       " Value(val=0.23027786513249304),\n",
       " Value(val=0.13080747145247607),\n",
       " Value(val=0.3401183625435853),\n",
       " Value(val=0.6148841655733446),\n",
       " Value(val=-0.05180733809215621),\n",
       " Value(val=-0.1274473665800251),\n",
       " Value(val=-0.9101178788048867),\n",
       " Value(val=0.5985058410457196),\n",
       " Value(val=-0.12200776626253718),\n",
       " Value(val=-0.41162841855726606),\n",
       " Value(val=-0.35398267217161417),\n",
       " Value(val=0.34779889157514665),\n",
       " Value(val=0.12998207600144163),\n",
       " Value(val=0.35865855204236174),\n",
       " Value(val=0.7209244999986006),\n",
       " Value(val=-0.4385080627039737),\n",
       " Value(val=0.3319215376268514),\n",
       " Value(val=-0.6087983658327754),\n",
       " Value(val=0.3587010014988059),\n",
       " Value(val=-0.8801652697539275),\n",
       " Value(val=-0.02749580733571033)]"
      ]
     },
     "execution_count": 36,
     "metadata": {},
     "output_type": "execute_result"
    }
   ],
   "source": [
    "n.get_params()"
   ]
  },
  {
   "cell_type": "markdown",
   "metadata": {},
   "source": [
    "Testing with a simple binary classifier"
   ]
  },
  {
   "cell_type": "code",
   "execution_count": 37,
   "metadata": {},
   "outputs": [],
   "source": [
    "train_X = [\n",
    "    [2.0, 3.0, -1.0],\n",
    "    [3.0, -1.0, 0.5],\n",
    "    [0.5, 1.0, 1.0],\n",
    "    [1.0, 1.0, -1.0]\n",
    "]\n",
    "train_y = [1.0, -1.0, -1.0, 1.0]"
   ]
  },
  {
   "cell_type": "code",
   "execution_count": 38,
   "metadata": {},
   "outputs": [
    {
     "data": {
      "text/plain": [
       "Value(val=4.833790677508481)"
      ]
     },
     "execution_count": 38,
     "metadata": {},
     "output_type": "execute_result"
    }
   ],
   "source": [
    "y_pred = [n(x) for x in train_X]\n",
    "loss = sum((pred - ground_truth)**2 for ground_truth, pred in zip(train_y, y_pred))\n",
    "loss"
   ]
  },
  {
   "cell_type": "markdown",
   "metadata": {},
   "source": [
    "This shows the current loss without training. I am now going to show one step of training before automating the process."
   ]
  },
  {
   "cell_type": "code",
   "execution_count": 39,
   "metadata": {},
   "outputs": [],
   "source": [
    "# we also want to define a learning rate, \n",
    "# which is the rate at which we will adjust the val.\n",
    "LEARNING_RATE = 0.001"
   ]
  },
  {
   "cell_type": "markdown",
   "metadata": {},
   "source": [
    "Our goal here is to ultimately reduce the loss coming from our neural network.\n",
    "By running the next two cells, it will reset the gradients to 0.0, conduct a backward pass, update the parameters, and then a forward pass."
   ]
  },
  {
   "cell_type": "code",
   "execution_count": 40,
   "metadata": {},
   "outputs": [],
   "source": [
    "# zero grad\n",
    "for parameter in n.get_params():\n",
    "    parameter.grad = 0.0\n",
    "\n",
    "# backwards pass\n",
    "loss.backward()\n",
    "\n",
    "# adjust parameters based on generated gradients. If the gradient\n",
    "# is negative, then increasing the val will bring the loss down.\n",
    "for parameter in n.get_params():\n",
    "    parameter.val += -LEARNING_RATE * parameter.grad\n"
   ]
  },
  {
   "cell_type": "code",
   "execution_count": 41,
   "metadata": {},
   "outputs": [
    {
     "data": {
      "text/plain": [
       "Value(val=4.75000216915292)"
      ]
     },
     "execution_count": 41,
     "metadata": {},
     "output_type": "execute_result"
    }
   ],
   "source": [
    "y_pred = [n(x) for x in train_X]\n",
    "loss = sum((pred - ground_truth)**2 for ground_truth, pred in zip(train_y, y_pred))\n",
    "loss"
   ]
  },
  {
   "cell_type": "markdown",
   "metadata": {},
   "source": [
    "Now it's time to automate this process."
   ]
  },
  {
   "cell_type": "code",
   "execution_count": 42,
   "metadata": {},
   "outputs": [],
   "source": [
    "train_X = [\n",
    "    [2.0, 3.0, -1.0],\n",
    "    [3.0, -1.0, 0.5],\n",
    "    [0.5, 1.0, 1.0],\n",
    "    [1.0, 1.0, -1.0]\n",
    "]\n",
    "train_y = [1.0, -1.0, -1.0, 1.0]"
   ]
  },
  {
   "cell_type": "code",
   "execution_count": 43,
   "metadata": {},
   "outputs": [],
   "source": [
    "EPOCHS = 20\n",
    "LEARNING_RATE = 0.05"
   ]
  },
  {
   "cell_type": "code",
   "execution_count": 44,
   "metadata": {},
   "outputs": [],
   "source": [
    "for i in range(EPOCHS):\n",
    "    # forward pass\n",
    "    y_pred = [n(x) for x in train_X]\n",
    "    loss = sum((pred - ground_truth)**2 for ground_truth, pred in zip(train_y, y_pred))\n",
    "\n",
    "    # backward pass with zero grad\n",
    "    for parameter in n.get_params():\n",
    "        parameter.grad = 0.0\n",
    "    loss.backward()\n",
    "\n",
    "    # update parameters\n",
    "    for parameter in n.get_params():\n",
    "        parameter.val += -LEARNING_RATE * parameter.grad"
   ]
  },
  {
   "cell_type": "code",
   "execution_count": 45,
   "metadata": {},
   "outputs": [
    {
     "name": "stdout",
     "output_type": "stream",
     "text": [
      "loss:  0.026264524529209722\n",
      "ground truth:  [1.0, -1.0, -1.0, 1.0]\n",
      "predictions:  [Value(val=0.9376983092789885), Value(val=-0.9650651899992887), Value(val=-0.8928168565647037), Value(val=0.901641692389224)]\n"
     ]
    }
   ],
   "source": [
    "print(\"loss: \", loss.val)\n",
    "print(\"ground truth: \", train_y)\n",
    "print(\"predictions: \", y_pred)"
   ]
  },
  {
   "cell_type": "markdown",
   "metadata": {},
   "source": [
    "As you can see, the predictions are very close to the ground truth"
   ]
  }
 ],
 "metadata": {
  "kernelspec": {
   "display_name": "Python 3",
   "language": "python",
   "name": "python3"
  },
  "language_info": {
   "codemirror_mode": {
    "name": "ipython",
    "version": 3
   },
   "file_extension": ".py",
   "mimetype": "text/x-python",
   "name": "python",
   "nbconvert_exporter": "python",
   "pygments_lexer": "ipython3",
   "version": "3.11.0"
  }
 },
 "nbformat": 4,
 "nbformat_minor": 2
}
